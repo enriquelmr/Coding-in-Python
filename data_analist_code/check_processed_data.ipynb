{
 "cells": [
  {
   "cell_type": "code",
   "execution_count": 18,
   "id": "c70b0b36-2d42-461f-aedf-2c4e6ded7603",
   "metadata": {},
   "outputs": [],
   "source": [
    "import os\n",
    "import pandas as pd\n",
    "import matplotlib.pyplot as plt\n"
   ]
  },
  {
   "cell_type": "code",
   "execution_count": 2,
   "id": "625e2454-c592-4dcc-b24d-13984f9999b0",
   "metadata": {},
   "outputs": [],
   "source": [
    "file_path = \"/Users/luis.martinez/Documents/swiss/output/CH_Basler.csv\""
   ]
  },
  {
   "cell_type": "code",
   "execution_count": 8,
   "id": "e4e4178a-d3f7-408c-9e98-387eb16a33b5",
   "metadata": {},
   "outputs": [],
   "source": [
    "df=pd.read_csv(file_path, comment='#', index_col='JulianTime')"
   ]
  },
  {
   "cell_type": "code",
   "execution_count": 16,
   "id": "1bb23ae7-4cdc-4a9f-9751-944ef26a973f",
   "metadata": {},
   "outputs": [
    {
     "name": "stdout",
     "output_type": "stream",
     "text": [
      "DatetimeIndex([], dtype='datetime64[ns]', freq=None)\n"
     ]
    }
   ],
   "source": [
    "# Get the minimum and maximum timestamps\n",
    "begin_date = df.index.min()\n",
    "end_date = df.index.max()\n",
    "\n",
    "# Define the timestamp interval in minutes\n",
    "timestamp_interval = 10\n",
    "\n",
    "# Create a DatetimeIndex with the expected timestamps\n",
    "expected_dates = pd.date_range(start=begin_date, end=end_date, freq=f'{timestamp_interval}T')\n",
    "\n",
    "# Find missing dates\n",
    "missing_dates = expected_dates.difference(df.index)\n",
    "print(missing_dates)"
   ]
  },
  {
   "cell_type": "code",
   "execution_count": 23,
   "id": "415f136e-56c1-493c-9137-1468756d8b0f",
   "metadata": {},
   "outputs": [],
   "source": [
    "df.index = pd.to_datetime(df.index)\n",
    "\n",
    "# Group the data by month\n",
    "monthly_groups = df.groupby(pd.Grouper(freq='M'))\n",
    "\n",
    "# Iterate over each month group\n",
    "for month, group in monthly_groups:\n",
    "    # Divide the month into three equal parts\n",
    "    n = len(group) // 3\n",
    "    \n",
    "    # Create a figure with 3 subplots\n",
    "    fig, axs = plt.subplots(3, 1, figsize=(10, 15))\n",
    "    \n",
    "    # Plot the 'GHI' column on each subplot\n",
    "    for i, ax in enumerate(axs):\n",
    "        start_idx = i * n\n",
    "        end_idx = (i + 1) * n if i < 2 else len(group)\n",
    "        part_group = group.iloc[start_idx:end_idx]\n",
    "        part_group['GHI_ThPyra1_Wm-2_avg'].plot(ax=ax, legend=None)\n",
    "        ax.set_title(f'Part {i+1}')  # Set the title as the part number\n",
    "    \n",
    "    # Add a common y-label\n",
    "    fig.text(0.04, 0.5, 'GHI Value', va='center', rotation='vertical')\n",
    "    \n",
    "    # Adjust layout\n",
    "    plt.tight_layout()\n",
    "    \n",
    "    # Save the figure as a PDF with the month name\n",
    "    month_name = month.strftime('%B')\n",
    "    fig.savefig(f'/Users/luis.martinez/Documents/swiss/output/{month_name}.pdf')\n",
    "    \n",
    "    # Close the figure to release memory\n",
    "    plt.close(fig)"
   ]
  },
  {
   "cell_type": "code",
   "execution_count": 21,
   "id": "646182df-6f64-4009-b37d-90786f64f45c",
   "metadata": {},
   "outputs": [
    {
     "data": {
      "text/plain": [
       "Index(['GHI_ThPyra1_Wm-2_avg', 'Temp_ThHyg1_degC_avg', 'RH_ThHyg1_per100_avg',\n",
       "       'WindSpeed_Anemo1_ms_avg', 'WindSpeed_Anemo1_ms_max',\n",
       "       'WindDir_Wvane1_deg_avg360', 'deep_snow', 'GHI_ThPyra1_Wm-2_avg_sud',\n",
       "       'GHI_ThPyra1_Wm-2_avg_nord'],\n",
       "      dtype='object')"
      ]
     },
     "execution_count": 21,
     "metadata": {},
     "output_type": "execute_result"
    }
   ],
   "source": [
    "df.columns"
   ]
  },
  {
   "cell_type": "code",
   "execution_count": null,
   "id": "f6da70e5-e40d-426a-a501-680ec7f9aee7",
   "metadata": {},
   "outputs": [],
   "source": []
  }
 ],
 "metadata": {
  "kernelspec": {
   "display_name": "Python 3 (ipykernel)",
   "language": "python",
   "name": "python3"
  },
  "language_info": {
   "codemirror_mode": {
    "name": "ipython",
    "version": 3
   },
   "file_extension": ".py",
   "mimetype": "text/x-python",
   "name": "python",
   "nbconvert_exporter": "python",
   "pygments_lexer": "ipython3",
   "version": "3.11.4"
  }
 },
 "nbformat": 4,
 "nbformat_minor": 5
}
